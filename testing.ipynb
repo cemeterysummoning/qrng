{
 "cells": [
  {
   "cell_type": "code",
   "execution_count": 159,
   "metadata": {},
   "outputs": [],
   "source": [
    "import qiskit as q\n",
    "from math import sqrt\n",
    "from numpy import arccos\n",
    "from qiskit.execute_function import execute\n",
    "from qiskit.visualization import plot_histogram"
   ]
  },
  {
   "cell_type": "code",
   "execution_count": 160,
   "metadata": {},
   "outputs": [],
   "source": [
    "def prepare_register(n):\n",
    "    quantum = q.QuantumRegister(n)\n",
    "    classical = q.ClassicalRegister(n)\n",
    "    register = q.QuantumCircuit(quantum, classical)\n",
    "    register.x(0)\n",
    "    \n",
    "    count = n\n",
    "    for i in range(0, n - 1):\n",
    "        angle = 2.0* arccos(1.0 / sqrt(count))\n",
    "        register.cry(angle, i, i + 1)\n",
    "        register.cx(i + 1, i)\n",
    "        count -= 1\n",
    "    \n",
    "    return register"
   ]
  },
  {
   "cell_type": "code",
   "execution_count": 165,
   "metadata": {},
   "outputs": [
    {
     "data": {
      "text/html": [
       "<pre style=\"word-wrap: normal;white-space: pre;background: #fff0;line-height: 1.1;font-family: &quot;Courier New&quot;,Courier,monospace\">        ┌───┐              ┌───┐                                      »\n",
       "q286_0: ┤ X ├──────■───────┤ X ├──────────────────────────────────────»\n",
       "        └───┘┌─────┴──────┐└─┬─┘              ┌───┐                   »\n",
       "q286_1: ─────┤ Ry(2.3664) ├──■────────■───────┤ X ├───────────────────»\n",
       "             └────────────┘     ┌─────┴──────┐└─┬─┘              ┌───┐»\n",
       "q286_2: ────────────────────────┤ Ry(2.3005) ├──■────────■───────┤ X ├»\n",
       "                                └────────────┘     ┌─────┴──────┐└─┬─┘»\n",
       "q286_3: ───────────────────────────────────────────┤ Ry(2.2143) ├──■──»\n",
       "                                                   └────────────┘     »\n",
       "q286_4: ──────────────────────────────────────────────────────────────»\n",
       "                                                                      »\n",
       "q286_5: ──────────────────────────────────────────────────────────────»\n",
       "                                                                      »\n",
       "q286_6: ──────────────────────────────────────────────────────────────»\n",
       "                                                                      »\n",
       " c26: 7/══════════════════════════════════════════════════════════════»\n",
       "                                                                      »\n",
       "meas: 7/══════════════════════════════════════════════════════════════»\n",
       "                                                                      »\n",
       "«                                                             ░ ┌─┐            »\n",
       "«q286_0: ─────────────────────────────────────────────────────░─┤M├────────────»\n",
       "«                                                             ░ └╥┘┌─┐         »\n",
       "«q286_1: ─────────────────────────────────────────────────────░──╫─┤M├─────────»\n",
       "«                                                             ░  ║ └╥┘┌─┐      »\n",
       "«q286_2: ─────────────────────────────────────────────────────░──╫──╫─┤M├──────»\n",
       "«                    ┌───┐                                    ░  ║  ║ └╥┘┌─┐   »\n",
       "«q286_3: ─────■──────┤ X ├────────────────────────────────────░──╫──╫──╫─┤M├───»\n",
       "«        ┌────┴─────┐└─┬─┘              ┌───┐                 ░  ║  ║  ║ └╥┘┌─┐»\n",
       "«q286_4: ┤ Ry(2π/3) ├──■────────■───────┤ X ├─────────────────░──╫──╫──╫──╫─┤M├»\n",
       "«        └──────────┘     ┌─────┴──────┐└─┬─┘           ┌───┐ ░  ║  ║  ║  ║ └╥┘»\n",
       "«q286_5: ─────────────────┤ Ry(1.9106) ├──■───────■─────┤ X ├─░──╫──╫──╫──╫──╫─»\n",
       "«                         └────────────┘     ┌────┴────┐└─┬─┘ ░  ║  ║  ║  ║  ║ »\n",
       "«q286_6: ────────────────────────────────────┤ Ry(π/2) ├──■───░──╫──╫──╫──╫──╫─»\n",
       "«                                            └─────────┘      ░  ║  ║  ║  ║  ║ »\n",
       "« c26: 7/════════════════════════════════════════════════════════╬══╬══╬══╬══╬═»\n",
       "«                                                                ║  ║  ║  ║  ║ »\n",
       "«meas: 7/════════════════════════════════════════════════════════╩══╩══╩══╩══╩═»\n",
       "«                                                                0  1  2  3  4 »\n",
       "«              \n",
       "«q286_0: ──────\n",
       "«              \n",
       "«q286_1: ──────\n",
       "«              \n",
       "«q286_2: ──────\n",
       "«              \n",
       "«q286_3: ──────\n",
       "«              \n",
       "«q286_4: ──────\n",
       "«        ┌─┐   \n",
       "«q286_5: ┤M├───\n",
       "«        └╥┘┌─┐\n",
       "«q286_6: ─╫─┤M├\n",
       "«         ║ └╥┘\n",
       "« c26: 7/═╬══╬═\n",
       "«         ║  ║ \n",
       "«meas: 7/═╩══╩═\n",
       "«         5  6 </pre>"
      ],
      "text/plain": [
       "        ┌───┐              ┌───┐                                      »\n",
       "q286_0: ┤ X ├──────■───────┤ X ├──────────────────────────────────────»\n",
       "        └───┘┌─────┴──────┐└─┬─┘              ┌───┐                   »\n",
       "q286_1: ─────┤ Ry(2.3664) ├──■────────■───────┤ X ├───────────────────»\n",
       "             └────────────┘     ┌─────┴──────┐└─┬─┘              ┌───┐»\n",
       "q286_2: ────────────────────────┤ Ry(2.3005) ├──■────────■───────┤ X ├»\n",
       "                                └────────────┘     ┌─────┴──────┐└─┬─┘»\n",
       "q286_3: ───────────────────────────────────────────┤ Ry(2.2143) ├──■──»\n",
       "                                                   └────────────┘     »\n",
       "q286_4: ──────────────────────────────────────────────────────────────»\n",
       "                                                                      »\n",
       "q286_5: ──────────────────────────────────────────────────────────────»\n",
       "                                                                      »\n",
       "q286_6: ──────────────────────────────────────────────────────────────»\n",
       "                                                                      »\n",
       " c26: 7/══════════════════════════════════════════════════════════════»\n",
       "                                                                      »\n",
       "meas: 7/══════════════════════════════════════════════════════════════»\n",
       "                                                                      »\n",
       "«                                                             ░ ┌─┐            »\n",
       "«q286_0: ─────────────────────────────────────────────────────░─┤M├────────────»\n",
       "«                                                             ░ └╥┘┌─┐         »\n",
       "«q286_1: ─────────────────────────────────────────────────────░──╫─┤M├─────────»\n",
       "«                                                             ░  ║ └╥┘┌─┐      »\n",
       "«q286_2: ─────────────────────────────────────────────────────░──╫──╫─┤M├──────»\n",
       "«                    ┌───┐                                    ░  ║  ║ └╥┘┌─┐   »\n",
       "«q286_3: ─────■──────┤ X ├────────────────────────────────────░──╫──╫──╫─┤M├───»\n",
       "«        ┌────┴─────┐└─┬─┘              ┌───┐                 ░  ║  ║  ║ └╥┘┌─┐»\n",
       "«q286_4: ┤ Ry(2π/3) ├──■────────■───────┤ X ├─────────────────░──╫──╫──╫──╫─┤M├»\n",
       "«        └──────────┘     ┌─────┴──────┐└─┬─┘           ┌───┐ ░  ║  ║  ║  ║ └╥┘»\n",
       "«q286_5: ─────────────────┤ Ry(1.9106) ├──■───────■─────┤ X ├─░──╫──╫──╫──╫──╫─»\n",
       "«                         └────────────┘     ┌────┴────┐└─┬─┘ ░  ║  ║  ║  ║  ║ »\n",
       "«q286_6: ────────────────────────────────────┤ Ry(π/2) ├──■───░──╫──╫──╫──╫──╫─»\n",
       "«                                            └─────────┘      ░  ║  ║  ║  ║  ║ »\n",
       "« c26: 7/════════════════════════════════════════════════════════╬══╬══╬══╬══╬═»\n",
       "«                                                                ║  ║  ║  ║  ║ »\n",
       "«meas: 7/════════════════════════════════════════════════════════╩══╩══╩══╩══╩═»\n",
       "«                                                                0  1  2  3  4 »\n",
       "«              \n",
       "«q286_0: ──────\n",
       "«              \n",
       "«q286_1: ──────\n",
       "«              \n",
       "«q286_2: ──────\n",
       "«              \n",
       "«q286_3: ──────\n",
       "«              \n",
       "«q286_4: ──────\n",
       "«        ┌─┐   \n",
       "«q286_5: ┤M├───\n",
       "«        └╥┘┌─┐\n",
       "«q286_6: ─╫─┤M├\n",
       "«         ║ └╥┘\n",
       "« c26: 7/═╬══╬═\n",
       "«         ║  ║ \n",
       "«meas: 7/═╩══╩═\n",
       "«         5  6 "
      ]
     },
     "execution_count": 165,
     "metadata": {},
     "output_type": "execute_result"
    }
   ],
   "source": [
    "register = prepare_register(7)\n",
    "register.measure_all()\n",
    "register.draw()"
   ]
  },
  {
   "cell_type": "code",
   "execution_count": 166,
   "metadata": {},
   "outputs": [],
   "source": [
    "backend = q.BasicAer.get_backend('qasm_simulator')\n",
    "job = execute(register, backend, shots=1)\n",
    "result = job.result()"
   ]
  },
  {
   "cell_type": "code",
   "execution_count": 167,
   "metadata": {},
   "outputs": [
    {
     "name": "stdout",
     "output_type": "stream",
     "text": [
      "{'0000001 0000000': 144, '0001000 0000000': 142, '0000100 0000000': 141, '0010000 0000000': 134, '1000000 0000000': 141, '0100000 0000000': 143, '0000010 0000000': 155}\n",
      "<class 'qiskit.result.counts.Counts'>\n"
     ]
    },
    {
     "data": {
      "image/png": "[encoded data removed]",
      "text/plain": [
       "<Figure size 504x360 with 1 Axes>"
      ]
     },
     "execution_count": 167,
     "metadata": {},
     "output_type": "execute_result"
    }
   ],
   "source": [
    "counts = result.get_counts()\n",
    "print(counts)\n",
    "plot_histogram(counts)"
   ]
  },
  {
   "cell_type": "code",
   "execution_count": 164,
   "metadata": {},
   "outputs": [
    {
     "name": "stdout",
     "output_type": "stream",
     "text": [
      "Random Number: 4\n"
     ]
    }
   ],
   "source": [
    "string = counts.keys()\n",
    "bitstring = \"\"\n",
    "for i in string:\n",
    "    bitstring = i\n",
    "\n",
    "def get_num(bitstring):\n",
    "    for i in range(len(bitstring)):\n",
    "        if bitstring[i] == \"1\":\n",
    "            return i + 1\n",
    "\n",
    "print(f\"Random Number: {get_num(bitstring)}\")"
   ]
  }
 ],
 "metadata": {
  "kernelspec": {
   "display_name": "Python 3.8.10 64-bit",
   "language": "python",
   "name": "python3"
  },
  "language_info": {
   "codemirror_mode": {
    "name": "ipython",
    "version": 3
   },
   "file_extension": ".py",
   "mimetype": "text/x-python",
   "name": "python",
   "nbconvert_exporter": "python",
   "pygments_lexer": "ipython3",
   "version": "3.8.10"
  },
  "orig_nbformat": 4,
  "vscode": {
   "interpreter": {
    "hash": "916dbcbb3f70747c44a77c7bcd40155683ae19c65e1c03b4aa3499c5328201f1"
   }
  }
 },
 "nbformat": 4,
 "nbformat_minor": 2
}
